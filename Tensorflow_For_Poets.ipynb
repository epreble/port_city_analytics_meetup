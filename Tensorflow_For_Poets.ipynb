{
 "cells": [
  {
   "cell_type": "markdown",
   "metadata": {},
   "source": [
    "# Tensorflow for Poets Demo\n",
    "https://codelabs.developers.google.com/codelabs/tensorflow-for-poets\n"
   ]
  },
  {
   "cell_type": "code",
   "execution_count": 1,
   "metadata": {},
   "outputs": [],
   "source": [
    "# Place this Notebook in the \"tensorflow-for-poets-2\" directory\n",
    "# Tensorflow flower model trained with following command\n",
    "# (takes ~15 mins to run 4000 iterations the first time)\n",
    "# python -m scripts.retrain   --bottleneck_dir=tf_files/bottlenecks   --model_dir=tf_files/models/\"${ARCHITECTURE}\"   --summaries_dir=tf_files/training_summaries/\"${ARCHITECTURE}\"   --output_graph=tf_files/retrained_graph.pb   --output_labels=tf_files/retrained_labels.txt   --architecture=\"${ARCHITECTURE}\"   --image_dir=tf_files/flower_photos"
   ]
  },
  {
   "cell_type": "code",
   "execution_count": 2,
   "metadata": {},
   "outputs": [],
   "source": [
    "def test_image(image_filename, model, labels):\n",
    "    # Run classification on a single image of a daisy\n",
    "    test = !python -m scripts.label_image \\\n",
    "        --graph={model} \\\n",
    "        --image={image_filename} \\\n",
    "        --labels={labels}    \n",
    "\n",
    "    ### Parse training information to make it more useful\n",
    "    # Remove the preamble text of the output\n",
    "    results = test[4:]\n",
    "\n",
    "    # Split list into name / score text\n",
    "    results = [x.split(\" \") for x in results]\n",
    "\n",
    "    # Extract just the score itself (characters 7-13 of string, converted to float)\n",
    "    for each_result in results:\n",
    "#         print(each_result)\n",
    "        each_result[1] = float(each_result[1][7:13])\n",
    "\n",
    "    # Display all the results\n",
    "    # print(results)\n",
    "\n",
    "    # Just display the top result\n",
    "    highest_prediction = 0\n",
    "    for each_result in results:\n",
    "        if each_result[1] > highest_prediction:\n",
    "            highest_prediction = each_result[1]\n",
    "            prediction_name = each_result[0]\n",
    "    return prediction_name, highest_prediction"
   ]
  },
  {
   "cell_type": "code",
   "execution_count": 3,
   "metadata": {},
   "outputs": [
    {
     "name": "stdout",
     "output_type": "stream",
     "text": [
      "Predicted Class = daisy\n",
      "Prediction Confidence = 0.9992\n"
     ]
    }
   ],
   "source": [
    "test_flower = 'tf_files/flower_photos/daisy/21652746_cc379e0eea_m.jpg'\n",
    "test_model = 'tf_files/retrained_graph.pb'\n",
    "test_labels = 'tf_files/retrained_labels.txt'\n",
    "name, certainty = test_image(test_flower, test_model, test_labels)\n",
    "\n",
    "print(\"Predicted Class =\",name)\n",
    "print(\"Prediction Confidence =\",certainty)"
   ]
  },
  {
   "cell_type": "code",
   "execution_count": 4,
   "metadata": {},
   "outputs": [],
   "source": [
    "# Retrain the model on your own pictures!\n",
    "\n",
    "# Use https://github.com/hardikvasa/google-images-download to download lots of images of something popular\n",
    "# Google_Images_Deep_Learning_Sets.ipynb\n",
    "# This will download some images with bad formatting for training.\n",
    "# If you get a training error, just delete that image and try again\n",
    "\n",
    "# I put Star Wars Droid picture \"classes\" into 4 directories\n",
    "# tf_files/my_photos/downloads/c3po\n",
    "# tf_files/my_photos/downloads/bb8\n",
    "# tf_files/my_photos/downloads/r2d2\n",
    "# tf_files/my_photos/downloads/K2SO\n",
    "\n",
    "# Also, take some random images from each class and put in a separate \"test\" directory\n",
    "# Then, you can test how well your model works on images that the model hasn't ever \"seen\"\n",
    "\n",
    "my_photos_dir = \"/Users/epreble/Documents/PyCharm/tensorflow_poets/tensorflow-for-poets-2/tf_files/my_photos/downloads\"\n",
    "test_dir = \"/Users/epreble/Documents/PyCharm/tensorflow_poets/tensorflow-for-poets-2/tf_files/my_photos/test_droids\""
   ]
  },
  {
   "cell_type": "code",
   "execution_count": 5,
   "metadata": {
    "scrolled": true
   },
   "outputs": [
    {
     "name": "stdout",
     "output_type": "stream",
     "text": [
      "['c3po_1.jpg', 'c3po_10.jpeg', 'c3po_2.jpg', 'c3po_3.jpg', 'c3po_4.jpg', 'c3po_5.jpg', 'c3po_6.jpg', 'c3po_7.jpg', 'c3po_8.jpg', 'c3po_9.jpg']\n",
      "['bb8_1.jpg', 'bb8_10.jpg', 'bb8_2.jpg', 'bb8_3.jpg', 'bb8_4.jpg', 'bb8_5.jpg', 'bb8_6.png', 'bb8_7.jpg', 'bb8_8.jpeg', 'bb8_9.jpg']\n",
      "['r2d2_1.jpg', 'r2d2_10.png', 'r2d2_2.jpg', 'r2d2_3.jpg', 'r2d2_4.jpg', 'r2d2_5.jpg', 'r2d2_6.jpg', 'r2d2_7.jpg', 'r2d2_8.jpeg', 'r2d2_9.jpg']\n",
      "['k2so_1.jpg', 'k2so_10.jpg', 'k2so_2.jpg', 'k2so_3.jpg', 'k2so_4.jpg', 'k2so_5.jpg', 'k2so_6.jpg', 'k2so_7.png', 'k2so_8.jpg', 'k2so_9.jpg']\n",
      "['c3p0_r2d2_1.jpg', 'c3p0_r2d2_2.jpg', 'c3p0_r2d2_bb8_1.jpg', 'c3p0_r2d2_bb8_2.jpg', 'c3p0_r2d2_bb8_k2so_1.jpg', 'c3p0_r2d2_bb8_k2so_2.jpg']\n"
     ]
    }
   ],
   "source": [
    "# Test the results with the test images that were unseen by the model\n",
    "\n",
    "from os import listdir\n",
    "from os.path import isfile, join\n",
    "\n",
    "test_images = [f for f in listdir(test_dir) if isfile(join(test_dir, f))]\n",
    "test_images.sort()\n",
    "test_images_c3po = test_images[16:26]\n",
    "test_images_bb8 = test_images[0:10]\n",
    "test_images_r2d2 = test_images[36:46]\n",
    "test_images_k2so = test_images[26:36]\n",
    "test_images_mixed = test_images[10:16]\n",
    "\n",
    "print(test_images_c3po)\n",
    "print(test_images_bb8)\n",
    "print(test_images_r2d2)\n",
    "print(test_images_k2so)\n",
    "print(test_images_mixed)"
   ]
  },
  {
   "cell_type": "code",
   "execution_count": 6,
   "metadata": {},
   "outputs": [],
   "source": [
    "# Retrain model on images in my_photos_dir\n",
    "# Run the below python command in terminal window\n",
    "#    Rename the output files, or your flower model will be overwritten\n",
    "#    output_graph=tf_files/retrained_graph.pb      -->  output_graph=tf_files/droid_model.pb\n",
    "#    output_labels=tf_files/retrained_labels.txt   -->  output_labels=tf_files/droid_labels.txt\n",
    "\n",
    "\n",
    "# python -m scripts.retrain --bottleneck_dir=tf_files/bottlenecks --model_dir=tf_files/models/\"${ARCHITECTURE}\" --summaries_dir=tf_files/training_summaries/\"${ARCHITECTURE}\" --output_graph=tf_files/droid_model.pb --output_labels=tf_files/droid_labels.txt --architecture=\"${ARCHITECTURE}\" --image_dir=tf_files/my_photos/downloads"
   ]
  },
  {
   "cell_type": "code",
   "execution_count": 8,
   "metadata": {},
   "outputs": [
    {
     "name": "stdout",
     "output_type": "stream",
     "text": [
      "Predicted Class = bb8\n",
      "Prediction Confidence = 1.0\n"
     ]
    }
   ],
   "source": [
    "test_droid = 'tf_files/my_photos/test_droids/bb8_9.jpg'\n",
    "test_model = 'tf_files/droid_model.pb'\n",
    "test_labels = 'tf_files/droid_labels.txt'\n",
    "name, certainty = test_image(test_droid, test_model, test_labels)\n",
    "\n",
    "print(\"Predicted Class =\",name)\n",
    "print(\"Prediction Confidence =\",certainty)\n",
    "\n",
    "# Can also use this command line in terminal:\n",
    "# python -m scripts.label_image --graph=tf_files/droid_model.pb --image={image_filename} --labels={droid_labels}"
   ]
  },
  {
   "cell_type": "code",
   "execution_count": 9,
   "metadata": {
    "scrolled": true
   },
   "outputs": [
    {
     "data": {
      "text/html": [
       "<table><tr><td>"
      ],
      "text/plain": [
       "<IPython.core.display.HTML object>"
      ]
     },
     "metadata": {},
     "output_type": "display_data"
    },
    {
     "data": {
      "text/html": [
       "<tr><td><img style='width: 100px; ' src='./tf_files/my_photos/test_droids/c3po_1.jpg' /></td><td><div align='left'>c3po : 1.0</div><tr><td><img style='width: 100px; ' src='./tf_files/my_photos/test_droids/c3po_10.jpeg' /></td><td><div align='left'>c3po : 1.0</div><tr><td><img style='width: 100px; ' src='./tf_files/my_photos/test_droids/c3po_2.jpg' /></td><td><div align='left'>c3po : 0.9999</div><tr><td><img style='width: 100px; ' src='./tf_files/my_photos/test_droids/c3po_3.jpg' /></td><td><div align='left'>c3po : 1.0</div><tr><td><img style='width: 100px; ' src='./tf_files/my_photos/test_droids/c3po_4.jpg' /></td><td><div align='left'>c3po : 1.0</div><tr><td><img style='width: 100px; ' src='./tf_files/my_photos/test_droids/c3po_5.jpg' /></td><td><div align='left'>c3po : 1.0</div><tr><td><img style='width: 100px; ' src='./tf_files/my_photos/test_droids/c3po_6.jpg' /></td><td><div align='left'>c3po : 0.9999</div><tr><td><img style='width: 100px; ' src='./tf_files/my_photos/test_droids/c3po_7.jpg' /></td><td><div align='left'>c3po : 1.0</div><tr><td><img style='width: 100px; ' src='./tf_files/my_photos/test_droids/c3po_8.jpg' /></td><td><div align='left'>c3po : 1.0</div><tr><td><img style='width: 100px; ' src='./tf_files/my_photos/test_droids/c3po_9.jpg' /></td><td><div align='left'>c3po : 1.0</div>"
      ],
      "text/plain": [
       "<IPython.core.display.HTML object>"
      ]
     },
     "metadata": {},
     "output_type": "display_data"
    },
    {
     "data": {
      "text/html": [
       "</td></tr></table>"
      ],
      "text/plain": [
       "<IPython.core.display.HTML object>"
      ]
     },
     "metadata": {},
     "output_type": "display_data"
    }
   ],
   "source": [
    "from IPython.display import Image, HTML, display\n",
    "\n",
    "droid_model = \"tf_files/droid_model.pb\"\n",
    "droid_labels = \"tf_files/droid_labels.txt\"\n",
    "\n",
    "prediction_name = []\n",
    "prediction_certainty = []\n",
    "\n",
    "for each_image in test_images_c3po:\n",
    "    image_filename = test_dir + \"/\" + each_image\n",
    "    name, certainty = test_image(image_filename, droid_model, droid_labels)\n",
    "    prediction_name.append(name)\n",
    "    prediction_certainty.append(certainty)\n",
    "    \n",
    "imagesList = ''\n",
    "for i, each_image in enumerate(test_images_c3po):\n",
    "    full_path = \"./tf_files/my_photos/test_droids/\" + each_image\n",
    "    imagesList = imagesList + \"<tr><td><img style='width: 100px; ' src='\" + str(full_path) + \"' /></td><td><div align='left'>\"\n",
    "    imagesList = imagesList + prediction_name[i]\n",
    "    imagesList = imagesList + \" : \" + str(prediction_certainty[i]) + \"</div>\"\n",
    "    \n",
    "display(HTML(\"<table><tr><td>\"))\n",
    "display(HTML(imagesList))\n",
    "display(HTML(\"</td></tr></table>\"))"
   ]
  },
  {
   "cell_type": "code",
   "execution_count": null,
   "metadata": {},
   "outputs": [],
   "source": []
  },
  {
   "cell_type": "code",
   "execution_count": 24,
   "metadata": {},
   "outputs": [
    {
     "data": {
      "text/html": [
       "<table><tr><td>"
      ],
      "text/plain": [
       "<IPython.core.display.HTML object>"
      ]
     },
     "metadata": {},
     "output_type": "display_data"
    },
    {
     "data": {
      "text/html": [
       "<tr><td><img style='width: 100px; ' src='./tf_files/my_photos/test_droids/bb8_1.jpg' /></td><td><div align='left'>bb8 : 1.0</div><tr><td><img style='width: 100px; ' src='./tf_files/my_photos/test_droids/bb8_10.jpg' /></td><td><div align='left'>bb8 : 1.0</div><tr><td><img style='width: 100px; ' src='./tf_files/my_photos/test_droids/bb8_2.jpg' /></td><td><div align='left'>bb8 : 0.9995</div><tr><td><img style='width: 100px; ' src='./tf_files/my_photos/test_droids/bb8_3.jpg' /></td><td><div align='left'>bb8 : 1.0</div><tr><td><img style='width: 100px; ' src='./tf_files/my_photos/test_droids/bb8_4.jpg' /></td><td><div align='left'>bb8 : 1.0</div><tr><td><img style='width: 100px; ' src='./tf_files/my_photos/test_droids/bb8_5.jpg' /></td><td><div align='left'>bb8 : 1.0</div><tr><td><img style='width: 100px; ' src='./tf_files/my_photos/test_droids/bb8_6.png' /></td><td><div align='left'>bb8 : 1.0</div><tr><td><img style='width: 100px; ' src='./tf_files/my_photos/test_droids/bb8_7.jpg' /></td><td><div align='left'>bb8 : 0.9999</div><tr><td><img style='width: 100px; ' src='./tf_files/my_photos/test_droids/bb8_8.jpeg' /></td><td><div align='left'>bb8 : 1.0</div><tr><td><img style='width: 100px; ' src='./tf_files/my_photos/test_droids/bb8_9.jpg' /></td><td><div align='left'>bb8 : 1.0</div>"
      ],
      "text/plain": [
       "<IPython.core.display.HTML object>"
      ]
     },
     "metadata": {},
     "output_type": "display_data"
    },
    {
     "data": {
      "text/html": [
       "</td></tr></table>"
      ],
      "text/plain": [
       "<IPython.core.display.HTML object>"
      ]
     },
     "metadata": {},
     "output_type": "display_data"
    }
   ],
   "source": [
    "prediction_name = []\n",
    "prediction_certainty = []\n",
    "\n",
    "for each_image in test_images_bb8:\n",
    "    image_filename = test_dir + \"/\" + each_image\n",
    "    name, certainty = test_image(image_filename, droid_model, droid_labels)\n",
    "    prediction_name.append(name)\n",
    "    prediction_certainty.append(certainty)\n",
    "    \n",
    "imagesList = ''\n",
    "for i, each_image in enumerate(test_images_bb8):\n",
    "    full_path = \"./tf_files/my_photos/test_droids/\" + each_image\n",
    "    imagesList = imagesList + \"<tr><td><img style='width: 100px; ' src='\" + str(full_path) + \"' /></td><td><div align='left'>\"\n",
    "    imagesList = imagesList + prediction_name[i]\n",
    "    imagesList = imagesList + \" : \" + str(prediction_certainty[i]) + \"</div>\"\n",
    "    \n",
    "display(HTML(\"<table><tr><td>\"))\n",
    "display(HTML(imagesList))\n",
    "display(HTML(\"</td></tr></table>\"))"
   ]
  },
  {
   "cell_type": "code",
   "execution_count": 25,
   "metadata": {},
   "outputs": [
    {
     "data": {
      "text/html": [
       "<table><tr><td>"
      ],
      "text/plain": [
       "<IPython.core.display.HTML object>"
      ]
     },
     "metadata": {},
     "output_type": "display_data"
    },
    {
     "data": {
      "text/html": [
       "<tr><td><img style='width: 100px; ' src='./tf_files/my_photos/test_droids/k2so_1.jpg' /></td><td><div align='left'>k2so : 0.9716</div><tr><td><img style='width: 100px; ' src='./tf_files/my_photos/test_droids/k2so_10.jpg' /></td><td><div align='left'>k2so : 0.9998</div><tr><td><img style='width: 100px; ' src='./tf_files/my_photos/test_droids/k2so_2.jpg' /></td><td><div align='left'>k2so : 1.0</div><tr><td><img style='width: 100px; ' src='./tf_files/my_photos/test_droids/k2so_3.jpg' /></td><td><div align='left'>k2so : 0.982</div><tr><td><img style='width: 100px; ' src='./tf_files/my_photos/test_droids/k2so_4.jpg' /></td><td><div align='left'>bb8 : 0.6842</div><tr><td><img style='width: 100px; ' src='./tf_files/my_photos/test_droids/k2so_5.jpg' /></td><td><div align='left'>k2so : 0.9995</div><tr><td><img style='width: 100px; ' src='./tf_files/my_photos/test_droids/k2so_6.jpg' /></td><td><div align='left'>k2so : 0.9999</div><tr><td><img style='width: 100px; ' src='./tf_files/my_photos/test_droids/k2so_7.png' /></td><td><div align='left'>k2so : 0.9625</div><tr><td><img style='width: 100px; ' src='./tf_files/my_photos/test_droids/k2so_8.jpg' /></td><td><div align='left'>k2so : 0.8641</div><tr><td><img style='width: 100px; ' src='./tf_files/my_photos/test_droids/k2so_9.jpg' /></td><td><div align='left'>k2so : 0.9983</div>"
      ],
      "text/plain": [
       "<IPython.core.display.HTML object>"
      ]
     },
     "metadata": {},
     "output_type": "display_data"
    },
    {
     "data": {
      "text/html": [
       "</td></tr></table>"
      ],
      "text/plain": [
       "<IPython.core.display.HTML object>"
      ]
     },
     "metadata": {},
     "output_type": "display_data"
    }
   ],
   "source": [
    "prediction_name = []\n",
    "prediction_certainty = []\n",
    "\n",
    "for each_image in test_images_k2so:\n",
    "    image_filename = test_dir + \"/\" + each_image\n",
    "    name, certainty = test_image(image_filename, droid_model, droid_labels)\n",
    "    prediction_name.append(name)\n",
    "    prediction_certainty.append(certainty)\n",
    "    \n",
    "imagesList = ''\n",
    "for i, each_image in enumerate(test_images_k2so):\n",
    "    full_path = \"./tf_files/my_photos/test_droids/\" + each_image\n",
    "    imagesList = imagesList + \"<tr><td><img style='width: 100px; ' src='\" + str(full_path) + \"' /></td><td><div align='left'>\"\n",
    "    imagesList = imagesList + prediction_name[i]\n",
    "    imagesList = imagesList + \" : \" + str(prediction_certainty[i]) + \"</div>\"\n",
    "    \n",
    "display(HTML(\"<table><tr><td>\"))\n",
    "display(HTML(imagesList))\n",
    "display(HTML(\"</td></tr></table>\"))"
   ]
  },
  {
   "cell_type": "code",
   "execution_count": 26,
   "metadata": {},
   "outputs": [
    {
     "data": {
      "text/html": [
       "<table><tr><td>"
      ],
      "text/plain": [
       "<IPython.core.display.HTML object>"
      ]
     },
     "metadata": {},
     "output_type": "display_data"
    },
    {
     "data": {
      "text/html": [
       "<tr><td><img style='width: 100px; ' src='./tf_files/my_photos/test_droids/r2d2_1.jpg' /></td><td><div align='left'>r2d2 : 1.0</div><tr><td><img style='width: 100px; ' src='./tf_files/my_photos/test_droids/r2d2_10.png' /></td><td><div align='left'>r2d2 : 0.9998</div><tr><td><img style='width: 100px; ' src='./tf_files/my_photos/test_droids/r2d2_2.jpg' /></td><td><div align='left'>r2d2 : 1.0</div><tr><td><img style='width: 100px; ' src='./tf_files/my_photos/test_droids/r2d2_3.jpg' /></td><td><div align='left'>r2d2 : 0.9997</div><tr><td><img style='width: 100px; ' src='./tf_files/my_photos/test_droids/r2d2_4.jpg' /></td><td><div align='left'>r2d2 : 1.0</div><tr><td><img style='width: 100px; ' src='./tf_files/my_photos/test_droids/r2d2_5.jpg' /></td><td><div align='left'>r2d2 : 1.0</div><tr><td><img style='width: 100px; ' src='./tf_files/my_photos/test_droids/r2d2_6.jpg' /></td><td><div align='left'>r2d2 : 1.0</div><tr><td><img style='width: 100px; ' src='./tf_files/my_photos/test_droids/r2d2_7.jpg' /></td><td><div align='left'>r2d2 : 0.9996</div><tr><td><img style='width: 100px; ' src='./tf_files/my_photos/test_droids/r2d2_8.jpeg' /></td><td><div align='left'>r2d2 : 1.0</div><tr><td><img style='width: 100px; ' src='./tf_files/my_photos/test_droids/r2d2_9.jpg' /></td><td><div align='left'>r2d2 : 1.0</div>"
      ],
      "text/plain": [
       "<IPython.core.display.HTML object>"
      ]
     },
     "metadata": {},
     "output_type": "display_data"
    },
    {
     "data": {
      "text/html": [
       "</td></tr></table>"
      ],
      "text/plain": [
       "<IPython.core.display.HTML object>"
      ]
     },
     "metadata": {},
     "output_type": "display_data"
    }
   ],
   "source": [
    "prediction_name = []\n",
    "prediction_certainty = []\n",
    "\n",
    "for each_image in test_images_r2d2:\n",
    "    image_filename = test_dir + \"/\" + each_image\n",
    "    name, certainty = test_image(image_filename, droid_model, droid_labels)\n",
    "    prediction_name.append(name)\n",
    "    prediction_certainty.append(certainty)\n",
    "    \n",
    "imagesList = ''\n",
    "for i, each_image in enumerate(test_images_r2d2):\n",
    "    full_path = \"./tf_files/my_photos/test_droids/\" + each_image\n",
    "    imagesList = imagesList + \"<tr><td><img style='width: 100px; ' src='\" + str(full_path) + \"' /></td><td><div align='left'>\"\n",
    "    imagesList = imagesList + prediction_name[i]\n",
    "    imagesList = imagesList + \" : \" + str(prediction_certainty[i]) + \"</div>\"\n",
    "    \n",
    "display(HTML(\"<table><tr><td>\"))\n",
    "display(HTML(imagesList))\n",
    "display(HTML(\"</td></tr></table>\"))"
   ]
  },
  {
   "cell_type": "code",
   "execution_count": null,
   "metadata": {},
   "outputs": [],
   "source": []
  }
 ],
 "metadata": {
  "kernelspec": {
   "display_name": "Python 3",
   "language": "python",
   "name": "python3"
  },
  "language_info": {
   "codemirror_mode": {
    "name": "ipython",
    "version": 3
   },
   "file_extension": ".py",
   "mimetype": "text/x-python",
   "name": "python",
   "nbconvert_exporter": "python",
   "pygments_lexer": "ipython3",
   "version": "3.6.6"
  }
 },
 "nbformat": 4,
 "nbformat_minor": 2
}
